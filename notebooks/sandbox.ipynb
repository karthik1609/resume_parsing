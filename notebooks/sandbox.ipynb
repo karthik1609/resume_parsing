{
 "cells": [
  {
   "cell_type": "code",
   "execution_count": 1,
   "id": "90b0c7ee-d87f-43f9-a2c4-a4a6d6897764",
   "metadata": {
    "execution": {
     "iopub.execute_input": "2022-03-29T11:40:16.864994Z",
     "iopub.status.busy": "2022-03-29T11:40:16.864805Z",
     "iopub.status.idle": "2022-03-29T11:40:16.910039Z",
     "shell.execute_reply": "2022-03-29T11:40:16.909368Z",
     "shell.execute_reply.started": "2022-03-29T11:40:16.864952Z"
    },
    "tags": []
   },
   "outputs": [
    {
     "ename": "ModuleNotFoundError",
     "evalue": "No module named 'include'",
     "output_type": "error",
     "traceback": [
      "\u001b[0;31m---------------------------------------------------------------------------\u001b[0m",
      "\u001b[0;31mModuleNotFoundError\u001b[0m                       Traceback (most recent call last)",
      "\u001b[0;32m/tmp/ipykernel_209304/1636137496.py\u001b[0m in \u001b[0;36m<module>\u001b[0;34m\u001b[0m\n\u001b[0;32m----> 1\u001b[0;31m \u001b[0;32mfrom\u001b[0m \u001b[0minclude\u001b[0m \u001b[0;32mimport\u001b[0m \u001b[0mResumeParser\u001b[0m\u001b[0;34m\u001b[0m\u001b[0;34m\u001b[0m\u001b[0m\n\u001b[0m",
      "\u001b[0;31mModuleNotFoundError\u001b[0m: No module named 'include'"
     ]
    }
   ],
   "source": [
    "from include import ResumeParser"
   ]
  },
  {
   "cell_type": "code",
   "execution_count": 6,
   "id": "1fadbd48-58c2-4dbd-8e81-f76fd7fcae92",
   "metadata": {
    "execution": {
     "iopub.execute_input": "2022-03-28T12:23:46.643436Z",
     "iopub.status.busy": "2022-03-28T12:23:46.642992Z",
     "iopub.status.idle": "2022-03-28T12:23:46.647857Z",
     "shell.execute_reply": "2022-03-28T12:23:46.647441Z",
     "shell.execute_reply.started": "2022-03-28T12:23:46.643403Z"
    },
    "tags": []
   },
   "outputs": [
    {
     "name": "stdout",
     "output_type": "stream",
     "text": [
      "Help on class parse in module include.ResumeParser:\n",
      "\n",
      "class parse(builtins.object)\n",
      " |  parse(file_path)\n",
      " |  \n",
      " |  Methods defined here:\n",
      " |  \n",
      " |  __init__(self, file_path)\n",
      " |      Initialize self.  See help(type(self)) for accurate signature.\n",
      " |  \n",
      " |  extract_dob(self)\n",
      " |  \n",
      " |  extract_email(self)\n",
      " |  \n",
      " |  extract_location(self, *args)\n",
      " |  \n",
      " |  extract_name(self, *args)\n",
      " |  \n",
      " |  extract_phone_number(self)\n",
      " |  \n",
      " |  extract_skills(self, *args)\n",
      " |  \n",
      " |  extract_skills_and_edu(self, *args)\n",
      " |  \n",
      " |  output(self, *args)\n",
      " |  \n",
      " |  ----------------------------------------------------------------------\n",
      " |  Data descriptors defined here:\n",
      " |  \n",
      " |  __dict__\n",
      " |      dictionary for instance variables (if defined)\n",
      " |  \n",
      " |  __weakref__\n",
      " |      list of weak references to the object (if defined)\n",
      "\n"
     ]
    }
   ],
   "source": [
    "help(ResumeParser.parse)"
   ]
  },
  {
   "cell_type": "code",
   "execution_count": null,
   "id": "91dcafef-f374-4194-a6af-4255db4b869d",
   "metadata": {},
   "outputs": [],
   "source": []
  }
 ],
 "metadata": {
  "kernelspec": {
   "display_name": "Python 3 (ipykernel)",
   "language": "python",
   "name": "python3"
  },
  "language_info": {
   "codemirror_mode": {
    "name": "ipython",
    "version": 3
   },
   "file_extension": ".py",
   "mimetype": "text/x-python",
   "name": "python",
   "nbconvert_exporter": "python",
   "pygments_lexer": "ipython3",
   "version": "3.8.13"
  }
 },
 "nbformat": 4,
 "nbformat_minor": 5
}
