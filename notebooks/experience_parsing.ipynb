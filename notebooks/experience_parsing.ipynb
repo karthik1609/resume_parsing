{
 "cells": [
  {
   "cell_type": "code",
   "execution_count": 2,
   "metadata": {
    "execution": {
     "iopub.execute_input": "2022-03-29T06:09:44.415927Z",
     "iopub.status.busy": "2022-03-29T06:09:44.415759Z",
     "iopub.status.idle": "2022-03-29T06:09:45.080499Z",
     "shell.execute_reply": "2022-03-29T06:09:45.080085Z",
     "shell.execute_reply.started": "2022-03-29T06:09:44.415912Z"
    },
    "tags": []
   },
   "outputs": [],
   "source": [
    "import re\n",
    "import spacy\n",
    "import textract\n",
    "import os\n",
    "from spacy.matcher import Matcher\n",
    "from nltk.corpus import stopwords\n",
    "import glob\n",
    "import os\n",
    "import pandas as pd\n",
    "import os, glob, re\n",
    "from pprint import pprint\n",
    "import nltk"
   ]
  },
  {
   "cell_type": "code",
   "execution_count": 3,
   "metadata": {
    "execution": {
     "iopub.execute_input": "2022-03-29T06:09:47.185545Z",
     "iopub.status.busy": "2022-03-29T06:09:47.185350Z",
     "iopub.status.idle": "2022-03-29T06:09:47.188482Z",
     "shell.execute_reply": "2022-03-29T06:09:47.188112Z",
     "shell.execute_reply.started": "2022-03-29T06:09:47.185530Z"
    }
   },
   "outputs": [],
   "source": [
    "file_list = glob.glob(os.path.join(os.getcwd(), \"/home/anudeepadi/Documents/Fw__Sample_resumes_\", \"*.docx\"))"
   ]
  },
  {
   "cell_type": "code",
   "execution_count": 4,
   "metadata": {
    "execution": {
     "iopub.execute_input": "2022-03-29T06:09:50.638674Z",
     "iopub.status.busy": "2022-03-29T06:09:50.638525Z",
     "iopub.status.idle": "2022-03-29T06:09:50.641239Z",
     "shell.execute_reply": "2022-03-29T06:09:50.640844Z",
     "shell.execute_reply.started": "2022-03-29T06:09:50.638659Z"
    }
   },
   "outputs": [],
   "source": [
    "resumes = [textract.process(file_path).decode() for file_path in file_list]"
   ]
  },
  {
   "cell_type": "code",
   "execution_count": null,
   "metadata": {},
   "outputs": [],
   "source": [
    "# s = enumerate(resume.splitlines())\n",
    "# s = [x for x in s if x[1] != '']\n",
    "# list(s)"
   ]
  },
  {
   "cell_type": "code",
   "execution_count": 4,
   "metadata": {},
   "outputs": [],
   "source": [
    "def resume_numbering(resumes):\n",
    "    # remove /n and /r from the resumes\n",
    "    resumes = [re.sub('\\n', ' ', x) for x in resumes]\n",
    "    resumes = [re.sub(' +', ' ', x) for x in resumes]\n",
    "    # for every /t in resumes[1] split the string and store it in a list\n",
    "    others = [[item] for item in resumes[1].split('\\t') if (item != ' ' or item != '')]\n",
    "    for item in others:\n",
    "        for j in item:\n",
    "            if j == ' ' or j == '':\n",
    "                item.remove(j)\n",
    "    # remove empty lists from the list\n",
    "    others = [x for x in others if x != []]\n",
    "    trythis = enumerate(others)\n",
    "    return list(trythis)"
   ]
  },
  {
   "cell_type": "code",
   "execution_count": 5,
   "metadata": {},
   "outputs": [
    {
     "data": {
      "text/plain": [
       "[(0, ['Dileep Kumar Podili']),\n",
       " (1,\n",
       "  ['dileep1611@gmail.com 11-8-133/1, Vikas Nagar Colony, Saroornagar, Hyderabad - 500035, INDIA • 9949171669 • 9985525299 ']),\n",
       " (2,\n",
       "  ['Business Architect with deep interests in streamlining IT enablement process ']),\n",
       " (3, ['Extensive experience as Business Analyst ']),\n",
       " (4, ['Design Thinking ']),\n",
       " (5, ['Product Concept to implementation Management ']),\n",
       " (6, ['Strong background in Project Management ']),\n",
       " (7, ['Agile-Scrum & Waterfall ']),\n",
       " (8, ['Software Development Life Cycle Management ']),\n",
       " (9, ['Business Process Management ']),\n",
       " (10, ['Change Management ']),\n",
       " (11, ['Stakeholder Management ']),\n",
       " (12, ['Estimations, Delivery & Release Planning ']),\n",
       " (13,\n",
       "  ['PM Roles: Business Analyst, Product and Delivery Head, Scrum Master, Iteration Manager, Product Owner PROFESSIONAL EXPERIENCE ']),\n",
       " (14, ['Business Architect']),\n",
       " (15,\n",
       "  ['Jan 2021 – Present Day Aimlytics Technologies Pvt. Ltd., Hyderabad, INDIA. ']),\n",
       " (16,\n",
       "  ['Experience in developing specific artifacts to help the management identify the gap between strategy and execution. ']),\n",
       " (17,\n",
       "  ['Experience as Head of Product Conceptualization and implementation an advanced in-house Micro Mobility solution. ']),\n",
       " (18,\n",
       "  ['Experience in liaising with senior leadership (from CEO to Directors / Managers) across different geographical locations to understand business needs and provide encouraging and constructive solutions. ']),\n",
       " (19,\n",
       "  ['Experience in driving the in-house product from Conceptualization, Design Thinking, and implementation. ']),\n",
       " (20,\n",
       "  ['Experience in presenting attractive Business solutions by analyzing the emerging trends in the industry. ']),\n",
       " (21,\n",
       "  ['Experience in collaborating with Operations and Marketing teams in visualizing the products’ futuristic opportunities and providing the needful assistance as required. ']),\n",
       " (22,\n",
       "  ['Expertise in Project Management and Team Collaboration for Projects and Products during the lifecycle of the Product. ']),\n",
       " (23,\n",
       "  ['Active Roles: Business Analyst, Product and Delivery Head, Team Lead ']),\n",
       " (24, ['Senior Business Analyst']),\n",
       " (25,\n",
       "  ['Oct 2018 – Dec 2020 EnterPi Software Solutions Pvt. Ltd., Hyderabad, INDIA. ']),\n",
       " (26,\n",
       "  ['Experience in liaising with middle and senior project and product management leadership across different geographical locations to understand business needs and transform them into requirements. ']),\n",
       " (27,\n",
       "  ['To create custom designed solutions for clients and present the Business Requirements documents by establishing strong project management skills (PMBOK) & controls - schedule, risks, issues, dependencies). ']),\n",
       " (28,\n",
       "  ['Initiating design thoughts on the requirements to make it easier for the design team to model the requirements into mock-ups & prototypes. ']),\n",
       " (29,\n",
       "  ['Helping the business to develop requirements and specifications with business and development teams using strong SDLC and Project management experience in latest Agile methodologies. ']),\n",
       " (30,\n",
       "  ['Experience in conducting and guiding Sprint ceremonies to plan, review, and retrospect the sprint development. ']),\n",
       " (31,\n",
       "  ['Guided UAT sessions with BA and QA teams to ensure minimum viable and prompt deliverables from time to time and prepared release documentation for the same. ']),\n",
       " (32,\n",
       "  ['Ensuring successful mitigation of impedances by identifying and implementing ideas to improve the efficiency of the project management process. ']),\n",
       " (33,\n",
       "  ['Guided teams and refined Agile techniques throughout journey and evolution of delivery cycles, establishing documentation framework to support Agile methodology implementation with Scrum-centric delivery team. ']),\n",
       " (34,\n",
       "  ['Active Roles: Business Analyst, Scrum Master, Iteration Manager, Product Manager, Product Owner ']),\n",
       " (35, ['Business Analyst']),\n",
       " (36,\n",
       "  ['May 2017 – Sep 2018 EnterPi Software Solutions Pvt. Ltd., Hyderabad, INDIA. ']),\n",
       " (37,\n",
       "  ['Experience in requirements gathering from the Business and Operations teams. ']),\n",
       " (38,\n",
       "  ['Experience in modeling the business requirements into technical requirements by prototyping and providing mockups of the desired workflow. ']),\n",
       " (39,\n",
       "  ['Conducted UAT sessions by collaborating with QA teams to ensure minimum viable and prompt deliverables from time to time and prepared release documentation for the same. ']),\n",
       " (40,\n",
       "  ['Worked closely with Senior BA and Project Managers to understand the bridge between Business and technical requirements to provide suggestive business solutions. ']),\n",
       " (41, ['Active Roles: Business Analyst, Scrum Master, Product Owner ']),\n",
       " (42, ['Business Analyst']),\n",
       " (43, ['Jun 2012 – May 2017 ']),\n",
       " (44, ['Freelancer ']),\n",
       " (45,\n",
       "  ['I was preparing for UPSC Civil Services Examinations and was freelancing as a BA Consultant for a Consultancy. ']),\n",
       " (46,\n",
       "  ['I have worked on building websites, Content management systems, Learning Management systems, Pharmacy related Apps with international clients from USA, Australia, Abu Dhabi. ']),\n",
       " (47, [' EDUCATION ']),\n",
       " (48, ['MTech in Engineering Design']),\n",
       " (49, ['2009 - 2011 Karunya University, Coimbatore, INDIA ']),\n",
       " (50, ['BTech in Mechanical Engineering']),\n",
       " (51, ['2005 - 2009 JNTUH (VITS), Hyderabad, INDIA CERTIFICATIONS ']),\n",
       " (52, ['Applied Business Analytics (Indian School of Business) ']),\n",
       " (53, ['Certified Scrum Product Owner (Scrum Alliance) ']),\n",
       " (54, ['IBM Enterprise Design Thinking Practitioner (IBM Pvt. Ltd.,) ']),\n",
       " (55,\n",
       "  ['Product Management & Tech Ethics (Global Governance Initiative) REFERENCES ']),\n",
       " (56, ['Available upon request'])]"
      ]
     },
     "execution_count": 5,
     "metadata": {},
     "output_type": "execute_result"
    }
   ],
   "source": [
    "resume_numbering(resumes)"
   ]
  },
  {
   "cell_type": "code",
   "execution_count": 10,
   "metadata": {},
   "outputs": [],
   "source": [
    "nlp = spacy.load('en_core_web_lg')\n",
    "doc = nlp(resumes[1])\n",
    "company_names = []\n",
    "for ent in doc.ents:\n",
    "    if ent.label_ == 'ORG':\n",
    "        company_names.append((ent.text, ent.start_char, ent.end_char))\n",
    "\n",
    "doc = nlp(resumes[1])\n",
    "dates = []\n",
    "for ent in doc.ents:\n",
    "    if ent.label_ in 'DATE':\n",
    "        dates.append((ent.text, ent.start_char, ent.end_char))"
   ]
  },
  {
   "cell_type": "code",
   "execution_count": 13,
   "metadata": {},
   "outputs": [],
   "source": [
    "experience = ['PROFESSIONAL EXPERIENCE', 'EXPERIENCE','PROFESSIONAL SUMMARY','WORK_EXPERIENCE']"
   ]
  },
  {
   "cell_type": "code",
   "execution_count": 31,
   "metadata": {},
   "outputs": [
    {
     "data": {
      "text/plain": [
       "['/home/anudeepadi/Documents/Fw__Sample_resumes_/Resume1_UI.docx',\n",
       " '/home/anudeepadi/Documents/Fw__Sample_resumes_/Resume-Dileep2020 (1).docx',\n",
       " '/home/anudeepadi/Documents/Fw__Sample_resumes_/Resume_11_Dotnet_Developer_.docx',\n",
       " '/home/anudeepadi/Documents/Fw__Sample_resumes_/resume_8_service_now.docx',\n",
       " '/home/anudeepadi/Documents/Fw__Sample_resumes_/Resume4_Devops_engg.docx',\n",
       " '/home/anudeepadi/Documents/Fw__Sample_resumes_/Resume2_Java_full_stack.docx',\n",
       " '/home/anudeepadi/Documents/Fw__Sample_resumes_/Resume_9_cyber_security_.docx',\n",
       " '/home/anudeepadi/Documents/Fw__Sample_resumes_/Resume_12_backend_developer_.docx',\n",
       " '/home/anudeepadi/Documents/Fw__Sample_resumes_/Resume_6_data_engg.docx']"
      ]
     },
     "execution_count": 31,
     "metadata": {},
     "output_type": "execute_result"
    }
   ],
   "source": [
    "file_list"
   ]
  },
  {
   "cell_type": "code",
   "execution_count": 32,
   "metadata": {},
   "outputs": [],
   "source": [
    "for phrase in resumes[0].split('\\n'):\n",
    "    if phrase in experience:\n",
    "        print(phrase)"
   ]
  },
  {
   "cell_type": "code",
   "execution_count": null,
   "metadata": {},
   "outputs": [],
   "source": []
  }
 ],
 "metadata": {
  "interpreter": {
   "hash": "0313688b7c8d139d30704ac9b9df0af0808aa5679bc21f5e95e1aa5803bb8893"
  },
  "kernelspec": {
   "display_name": "Python 3 (ipykernel)",
   "language": "python",
   "name": "python3"
  },
  "language_info": {
   "codemirror_mode": {
    "name": "ipython",
    "version": 3
   },
   "file_extension": ".py",
   "mimetype": "text/x-python",
   "name": "python",
   "nbconvert_exporter": "python",
   "pygments_lexer": "ipython3",
   "version": "3.8.0"
  }
 },
 "nbformat": 4,
 "nbformat_minor": 4
}
