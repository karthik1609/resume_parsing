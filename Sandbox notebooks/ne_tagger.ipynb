{
 "cells": [
  {
   "cell_type": "code",
   "execution_count": 18,
   "id": "b8f87b09-0f19-4766-bcec-c72a536c8e21",
   "metadata": {
    "execution": {
     "iopub.execute_input": "2022-03-29T11:56:57.896385Z",
     "iopub.status.busy": "2022-03-29T11:56:57.896286Z",
     "iopub.status.idle": "2022-03-29T11:56:59.752626Z",
     "shell.execute_reply": "2022-03-29T11:56:59.752214Z",
     "shell.execute_reply.started": "2022-03-29T11:56:57.896371Z"
    },
    "tags": []
   },
   "outputs": [],
   "source": [
    "#from qualifyde-resume-parsing.include import ResumeParser\n",
    "import spacy_stanza"
   ]
  },
  {
   "cell_type": "code",
   "execution_count": 19,
   "id": "2f768df3-f4ab-47f2-8529-9e49bfe42398",
   "metadata": {
    "execution": {
     "iopub.execute_input": "2022-03-29T12:00:27.152046Z",
     "iopub.status.busy": "2022-03-29T12:00:27.151942Z",
     "iopub.status.idle": "2022-03-29T12:00:27.155869Z",
     "shell.execute_reply": "2022-03-29T12:00:27.155405Z",
     "shell.execute_reply.started": "2022-03-29T12:00:27.152032Z"
    },
    "tags": []
   },
   "outputs": [
    {
     "name": "stdout",
     "output_type": "stream",
     "text": [
      "Help on package spacy_stanza:\n",
      "\n",
      "NAME\n",
      "    spacy_stanza\n",
      "\n",
      "PACKAGE CONTENTS\n",
      "    about\n",
      "    tokenizer\n",
      "\n",
      "FUNCTIONS\n",
      "    load_pipeline(name: str, *, lang: str = '', dir: Union[str, NoneType] = None, package: str = 'default', processors: Union[dict, str] = {}, logging_level: Union[str, int, NoneType] = None, verbose: Union[bool, NoneType] = None, use_gpu: bool = True, **kwargs) -> spacy.language.Language\n",
      "        Create a blank nlp object for a given language code with a stanza\n",
      "        pipeline as part of the tokenizer. To use the default stanza pipeline with\n",
      "        the same language code, leave the tokenizer config empty. Otherwise, pass\n",
      "        in the stanza pipeline settings in config[\"nlp\"][\"tokenizer\"].\n",
      "        \n",
      "        name (str): The language code, e.g. \"en\".\n",
      "        lang: str = \"\",\n",
      "        dir: Optional[str] = None,\n",
      "        package: str = \"default\",\n",
      "        processors: Union[dict, str] = {},\n",
      "        logging_level: Optional[Union[int, str]] = None,\n",
      "        verbose: Optional[bool] = None,\n",
      "        use_gpu: bool = True,\n",
      "        **kwargs: Options for the individual stanza processors.\n",
      "        RETURNS (Language): The nlp object.\n",
      "\n",
      "DATA\n",
      "    Optional = typing.Optional\n",
      "    Union = typing.Union\n",
      "\n",
      "FILE\n",
      "    /home/kr/anaconda3/envs/nlp/lib/python3.8/site-packages/spacy_stanza/__init__.py\n",
      "\n",
      "\n"
     ]
    }
   ],
   "source": [
    "help(spacy_stanza)"
   ]
  },
  {
   "cell_type": "code",
   "execution_count": null,
   "id": "11245cca-1e78-4f72-a4c4-6f9fc1d79a48",
   "metadata": {},
   "outputs": [],
   "source": []
  }
 ],
 "metadata": {
  "kernelspec": {
   "display_name": "Python 3 (ipykernel)",
   "language": "python",
   "name": "python3"
  },
  "language_info": {
   "codemirror_mode": {
    "name": "ipython",
    "version": 3
   },
   "file_extension": ".py",
   "mimetype": "text/x-python",
   "name": "python",
   "nbconvert_exporter": "python",
   "pygments_lexer": "ipython3",
   "version": "3.8.13"
  }
 },
 "nbformat": 4,
 "nbformat_minor": 5
}
