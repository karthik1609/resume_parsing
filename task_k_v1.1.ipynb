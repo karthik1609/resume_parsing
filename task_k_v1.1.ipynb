{
 "cells": [
  {
   "cell_type": "code",
   "execution_count": 1,
   "metadata": {
    "execution": {
     "iopub.execute_input": "2022-03-22T09:45:14.623096Z",
     "iopub.status.busy": "2022-03-22T09:45:14.622885Z",
     "iopub.status.idle": "2022-03-22T09:45:16.586881Z",
     "shell.execute_reply": "2022-03-22T09:45:16.586524Z",
     "shell.execute_reply.started": "2022-03-22T09:45:14.623045Z"
    },
    "tags": []
   },
   "outputs": [],
   "source": [
    "import re\n",
    "import spacy\n",
    "import textract\n",
    "import os\n",
    "from spacy.matcher import Matcher\n",
    "import glob\n",
    "import os\n",
    "import random\n",
    "import pandas as pd\n",
    "import json"
   ]
  },
  {
   "cell_type": "markdown",
   "metadata": {
    "execution": {
     "iopub.execute_input": "2022-03-21T07:29:35.826938Z",
     "iopub.status.busy": "2022-03-21T07:29:35.826755Z",
     "iopub.status.idle": "2022-03-21T07:29:35.830489Z",
     "shell.execute_reply": "2022-03-21T07:29:35.830116Z",
     "shell.execute_reply.started": "2022-03-21T07:29:35.826916Z"
    },
    "tags": []
   },
   "source": [
    "resumes_dict = {\n",
    "    'resume_id':\n",
    "    {                  #filename for now but to be replaced with unique id\n",
    "        'name': ('first name', 'last name'),\n",
    "        'email': ('email', 'position_tuple'),\n",
    "        'phone': ('phone', 'position_tuple'),\n",
    "        'dob': ('dob', 'position_tuple'),\n",
    "        'address': ('address', 'position_tuple'),\n",
    "        'skills': [('skill1', 'position_tuple1'), ('skill2', 'position_tuple2')],\n",
    "    }                     \n",
    "}"
   ]
  },
  {
   "cell_type": "code",
   "execution_count": 2,
   "metadata": {
    "execution": {
     "iopub.execute_input": "2022-03-22T09:45:16.587766Z",
     "iopub.status.busy": "2022-03-22T09:45:16.587628Z",
     "iopub.status.idle": "2022-03-22T09:45:16.591052Z",
     "shell.execute_reply": "2022-03-22T09:45:16.590619Z",
     "shell.execute_reply.started": "2022-03-22T09:45:16.587738Z"
    },
    "tags": []
   },
   "outputs": [],
   "source": [
    "file_list = glob.glob(os.path.join(os.getcwd(), \"Fw__Sample_resumes_\", \"*.docx\"))"
   ]
  },
  {
   "cell_type": "code",
   "execution_count": 3,
   "metadata": {
    "execution": {
     "iopub.execute_input": "2022-03-22T09:45:16.591783Z",
     "iopub.status.busy": "2022-03-22T09:45:16.591673Z",
     "iopub.status.idle": "2022-03-22T09:45:16.601434Z",
     "shell.execute_reply": "2022-03-22T09:45:16.600987Z",
     "shell.execute_reply.started": "2022-03-22T09:45:16.591768Z"
    },
    "tags": []
   },
   "outputs": [
    {
     "data": {
      "text/plain": [
       "['/home/kr/notebooks/qualifyde-resume-parsing/Fw__Sample_resumes_/Resume1_UI.docx',\n",
       " '/home/kr/notebooks/qualifyde-resume-parsing/Fw__Sample_resumes_/Resume2_Java_full_stack.docx',\n",
       " '/home/kr/notebooks/qualifyde-resume-parsing/Fw__Sample_resumes_/Resume4_Devops_engg.docx',\n",
       " '/home/kr/notebooks/qualifyde-resume-parsing/Fw__Sample_resumes_/Resume_11_Dotnet_Developer_.docx',\n",
       " '/home/kr/notebooks/qualifyde-resume-parsing/Fw__Sample_resumes_/Resume_12_backend_developer_.docx',\n",
       " '/home/kr/notebooks/qualifyde-resume-parsing/Fw__Sample_resumes_/Resume_6_data_engg.docx',\n",
       " '/home/kr/notebooks/qualifyde-resume-parsing/Fw__Sample_resumes_/Resume_9_cyber_security_.docx',\n",
       " '/home/kr/notebooks/qualifyde-resume-parsing/Fw__Sample_resumes_/resume_8_service_now.docx',\n",
       " '/home/kr/notebooks/qualifyde-resume-parsing/Fw__Sample_resumes_/Resume-Dileep2020 (1).docx']"
      ]
     },
     "execution_count": 3,
     "metadata": {},
     "output_type": "execute_result"
    }
   ],
   "source": [
    "file_list"
   ]
  },
  {
   "cell_type": "code",
   "execution_count": 65,
   "metadata": {
    "execution": {
     "iopub.execute_input": "2022-03-22T10:41:19.990550Z",
     "iopub.status.busy": "2022-03-22T10:41:19.990388Z",
     "iopub.status.idle": "2022-03-22T10:41:20.005588Z",
     "shell.execute_reply": "2022-03-22T10:41:20.005052Z",
     "shell.execute_reply.started": "2022-03-22T10:41:19.990533Z"
    },
    "tags": []
   },
   "outputs": [],
   "source": [
    "class parse:\n",
    "    def __init__(self, file_list):\n",
    "        self.file_list = file_list\n",
    "        self.resumes = [textract.process(file_path).decode() for file_path in file_list]\n",
    "        self.nlp_name_loc = spacy.load('en_core_web_trf')\n",
    "        self.nlp_skills = spacy.load('en_core_web_md')\n",
    "        self.nlp_edu = spacy.load('en_core_web_sm')\n",
    "    def extract(self):\n",
    "        edu_company = [\n",
    "                'BE',\n",
    "                'B.E.', \n",
    "                'B.E', \n",
    "                'BS',\n",
    "                'B.S',\n",
    "                'B.Com',\n",
    "                'BCA',\n",
    "                'ME',\n",
    "                'M.E', \n",
    "                'M.E.', \n",
    "                'M.S',\n",
    "                'B.com',\n",
    "                '10',\n",
    "                '10+2',\n",
    "                'BTECH', \n",
    "                'B.TECH', \n",
    "                'M.TECH', \n",
    "                'MTECH', \n",
    "                'SSC', \n",
    "                'HSC', \n",
    "                'C.B.S.E',\n",
    "                'CBSE',\n",
    "                'ICSE', \n",
    "                'X', \n",
    "                'XII',\n",
    "                '10th',\n",
    "                '12th',\n",
    "                ' 10th',\n",
    "                ' 12th',\n",
    "                'College',\n",
    "                'University',\n",
    "                'School',\n",
    "                'Pvt',\n",
    "                'Company'\n",
    "            ]\n",
    "        ph_list, email_list, dob_list, names_list, location_list, skills_list, skillset_exp = [], [], [], [], [], [], []\n",
    "        \n",
    "        for resume in self.resumes:\n",
    "            items = re.finditer(r'\\d{3}[-\\.\\s]??\\d{3}[-\\.\\s]??\\d{4}|\\(\\d{3}\\)\\s*\\d{3}[-\\.\\s]??\\d{4}|\\d{3}[-\\.\\s]??\\d{4}', resume)\n",
    "            ph_span = [(resume[item.span()[0]:item.span()[1]], item.span()) for item in items]\n",
    "            ph_list.append(ph_span)\n",
    "            items = re.finditer(r'[\\w\\.-]+@[\\w\\.-]+', resume)\n",
    "            em_span = [(resume[item.span()[0]:item.span()[1]], item.span()) for item in items]\n",
    "            email_list.append(em_span)\n",
    "            result2 = re.finditer(r\"[\\d]{1,2}-[\\d]{1,2}-[\\d]{4}\", resume) # DD-MM-YYYY\n",
    "            dob_span = [(resume[item.span()[0]:item.span()[1]], item.span()) for item in result2]\n",
    "            dob_list.append(dob_span)\n",
    "            doc_nmlc = self.nlp_name_loc(resume)\n",
    "            doc_skills = self.nlp_skills(resume)\n",
    "            list_ls, list_ns, list_ss = [], [], []\n",
    "            for ent in doc_nmlc.ents:\n",
    "                if ent.label_ == 'PERSON':\n",
    "                    es_names = (ent.text, ent.start_char, ent.end_char)\n",
    "                    list_ns.append(es_names)\n",
    "                if ent.label_ in ['GPE', 'LOC']:\n",
    "                    es_locs = (ent.text, ent.start_char, ent.end_char)\n",
    "                    list_ls.append(es_locs) \n",
    "            for ent in doc_skills.ents:\n",
    "                if ent.label_ in ['PRODUCT', 'ORG']:\n",
    "                    s_span = (ent.text, ent.start_char, ent.end_char)\n",
    "                    list_ss.append(s_span)\n",
    "            location_list.append(list_ls)\n",
    "            names_list.append(list_ns)\n",
    "            skillset_exp.append(list_ss)\n",
    "            noun_chunks = doc_skills.noun_chunks\n",
    "            # tokens = [token.text for token in nlp_text if not token.is_stop]\n",
    "            tokens = [token.text for token in doc_skills if token.is_stop]\n",
    "            data = pd.read_csv(\"skills.csv\") \n",
    "            skills = list(data.columns.values)\n",
    "\n",
    "            skillset = []\n",
    "            for token in tokens:\n",
    "                if token.lower() in skills:\n",
    "                    skillset.append(token)\n",
    "\n",
    "            for token in noun_chunks:\n",
    "                token = token.text.lower().strip()\n",
    "                if token in skills:\n",
    "                    skillset.append(token)\n",
    "\n",
    "            st = list(set([i.capitalize() for i in set([i.lower() for i in skillset])]))\n",
    "            skills_list.append(st)\n",
    "        \n",
    "            \n",
    "        return ph_list, email_list, dob_list, names_list, location_list, skill_list, skillset_exp\n",
    "    \n",
    "    def dictify(self):\n",
    "        dict_ = {}\n",
    "        ph_list, email_list, dob_list, names_list, location_list, skills_list, skillset_exp = self.extract()\n",
    "        for idx, ph, email, dob, name, location, skills, skills_exp in zip(\n",
    "            [file.split('.')[-2].split('/')[-1] for file in self.file_list], \n",
    "            ph_list, \n",
    "            email_list, \n",
    "            dob_list, \n",
    "            names_list, \n",
    "            location_list, \n",
    "            skills_list,\n",
    "            skillset_exp\n",
    "        ):\n",
    "            dict_[idx] = {}\n",
    "            if len(dob):\n",
    "                dict_[idx]['dob'] = dob[0]\n",
    "            else:\n",
    "                dict_[idx]['dob'] = (None, None)\n",
    "            if len(name):\n",
    "                dict_[idx]['name'] = name[0]\n",
    "            else:\n",
    "                dict_[idx]['name'] = (None, None)\n",
    "            if len(email): \n",
    "                dict_[idx]['email'] = email[0]\n",
    "            else:\n",
    "                dict_[idx]['email'] = (None, None)\n",
    "            if len(ph):\n",
    "                dict_[idx]['phone'] = ph[0]\n",
    "            else:\n",
    "                dict_[idx]['phone'] = (None, None)\n",
    "            if len(location):\n",
    "                dict_[idx]['location'] = location[0]\n",
    "            else:\n",
    "                dict_[idx]['location'] = (None, None)\n",
    "            dict_[idx]['skills'] = skills\n",
    "            dict_[idx]['skills_exp'] = skills_exp\n",
    "        return dict_     "
   ]
  },
  {
   "cell_type": "code",
   "execution_count": 66,
   "metadata": {
    "execution": {
     "iopub.execute_input": "2022-03-22T10:41:20.229455Z",
     "iopub.status.busy": "2022-03-22T10:41:20.229203Z",
     "iopub.status.idle": "2022-03-22T10:41:23.960951Z",
     "shell.execute_reply": "2022-03-22T10:41:23.960470Z",
     "shell.execute_reply.started": "2022-03-22T10:41:20.229434Z"
    },
    "tags": []
   },
   "outputs": [],
   "source": [
    "#nlp = spacy.load('en_core_web_sm')\n",
    "p = parse(file_list)"
   ]
  },
  {
   "cell_type": "code",
   "execution_count": 67,
   "metadata": {
    "execution": {
     "iopub.execute_input": "2022-03-22T10:41:23.962076Z",
     "iopub.status.busy": "2022-03-22T10:41:23.961882Z",
     "iopub.status.idle": "2022-03-22T10:42:31.009353Z",
     "shell.execute_reply": "2022-03-22T10:42:31.008974Z",
     "shell.execute_reply.started": "2022-03-22T10:41:23.962046Z"
    },
    "tags": []
   },
   "outputs": [
    {
     "name": "stdout",
     "output_type": "stream",
     "text": [
      "CPU times: user 5min 30s, sys: 41.1 s, total: 6min 11s\n",
      "Wall time: 1min 7s\n"
     ]
    }
   ],
   "source": [
    "%%time\n",
    "#ph_list, email_list, dob_list, names_list, location_list, skills_list, ents_ = p.extract()\n",
    "resume_dict = p.dictify()"
   ]
  },
  {
   "cell_type": "code",
   "execution_count": 68,
   "metadata": {
    "execution": {
     "iopub.execute_input": "2022-03-22T10:42:31.009969Z",
     "iopub.status.busy": "2022-03-22T10:42:31.009859Z",
     "iopub.status.idle": "2022-03-22T10:42:31.016861Z",
     "shell.execute_reply": "2022-03-22T10:42:31.016393Z",
     "shell.execute_reply.started": "2022-03-22T10:42:31.009954Z"
    },
    "tags": []
   },
   "outputs": [],
   "source": [
    "with open('parsed_output2.json', 'w') as f:\n",
    "    json.dump(resume_dict, f)"
   ]
  },
  {
   "cell_type": "code",
   "execution_count": 79,
   "metadata": {
    "execution": {
     "iopub.execute_input": "2022-03-22T11:03:27.970783Z",
     "iopub.status.busy": "2022-03-22T11:03:27.970645Z",
     "iopub.status.idle": "2022-03-22T11:03:27.974952Z",
     "shell.execute_reply": "2022-03-22T11:03:27.974642Z",
     "shell.execute_reply.started": "2022-03-22T11:03:27.970767Z"
    },
    "tags": []
   },
   "outputs": [
    {
     "name": "stdout",
     "output_type": "stream",
     "text": [
      "('INDIA • 9949171669 • 9985525299\\n\\n\\n\\n\\t\\tBusiness Architect', 109, 164)\n",
      "('Business Analyst\\n\\n\\t\\tDesign Thinking\\n\\n\\t\\tProduct Concept', 250, 304)\n",
      "('Project Management\\n\\n\\t\\tAgile-Scrum & Waterfall\\n\\n\\t\\tSoftware Development Life Cycle Management\\n\\n\\t\\tBusiness Process Management\\n\\n\\t\\tChange Management\\n\\n\\t\\tStakeholder Management\\n\\n\\t\\tEstimations', 358, 542)\n",
      "('Delivery & Release Planning', 544, 571)\n",
      "('Micro Mobility', 1011, 1025)\n",
      "('Directors / Managers', 1098, 1118)\n",
      "('Conceptualization, Design Thinking', 1292, 1326)\n",
      "('Operations and Marketing', 1492, 1516)\n",
      "('Project Management and Team Collaboration for Projects and Products', 1643, 1710)\n",
      "('PMBOK) &', 2270, 2278)\n",
      "('SDLC', 2586, 2590)\n",
      "('Project', 2595, 2602)\n",
      "('Agile', 2635, 2640)\n",
      "('Agile', 3219, 3224)\n",
      "('Scrum-centric', 3257, 3270)\n",
      "('the Business and Operations', 3528, 3555)\n",
      "('Scrum Master', 4076, 4088)\n",
      "('UPSC Civil Services Examinations', 4184, 4216)\n",
      "('Consultancy', 4262, 4273)\n",
      "('Content', 4314, 4321)\n",
      "('Learning Management', 4342, 4361)\n",
      "('MTech', 4488, 4493)\n",
      "('Engineering Design', 4497, 4515)\n",
      "('Karunya University', 4529, 4547)\n",
      "('BTech', 4571, 4576)\n",
      "('Mechanical Engineering', 4580, 4602)\n",
      "('Indian School of Business', 4698, 4723)\n",
      "('Scrum Alliance', 4760, 4774)\n",
      "('IBM Pvt.', 4824, 4832)\n"
     ]
    }
   ],
   "source": [
    "for skill in skill_list:\n",
    "    print(skill)"
   ]
  },
  {
   "cell_type": "code",
   "execution_count": 72,
   "metadata": {
    "execution": {
     "iopub.execute_input": "2022-03-22T10:43:11.449645Z",
     "iopub.status.busy": "2022-03-22T10:43:11.449441Z",
     "iopub.status.idle": "2022-03-22T10:43:11.453185Z",
     "shell.execute_reply": "2022-03-22T10:43:11.452712Z",
     "shell.execute_reply.started": "2022-03-22T10:43:11.449616Z"
    },
    "tags": []
   },
   "outputs": [
    {
     "data": {
      "text/plain": [
       "('Project Management and Team Collaboration for Projects and Products',\n",
       " 1643,\n",
       " 1710)"
      ]
     },
     "execution_count": 72,
     "metadata": {},
     "output_type": "execute_result"
    }
   ],
   "source": [
    "resume_dict['Resume-Dileep2020 (1)']['skills']"
   ]
  },
  {
   "cell_type": "code",
   "execution_count": 77,
   "metadata": {
    "execution": {
     "iopub.execute_input": "2022-03-22T11:00:47.398674Z",
     "iopub.status.busy": "2022-03-22T11:00:47.398509Z",
     "iopub.status.idle": "2022-03-22T11:00:47.401832Z",
     "shell.execute_reply": "2022-03-22T11:00:47.401427Z",
     "shell.execute_reply.started": "2022-03-22T11:00:47.398659Z"
    },
    "tags": []
   },
   "outputs": [],
   "source": [
    "skills = resume_dict['Resume-Dileep2020 (1)']['skills_exp']\n",
    "\n",
    "new_skill_list = [skill for skill in skills if not any([exclusion.lower() in skill[0].lower() for exclusion in edu_company])]"
   ]
  },
  {
   "cell_type": "code",
   "execution_count": 89,
   "metadata": {
    "execution": {
     "iopub.execute_input": "2022-03-22T09:35:16.300017Z",
     "iopub.status.busy": "2022-03-22T09:35:16.299817Z",
     "iopub.status.idle": "2022-03-22T09:35:16.305209Z",
     "shell.execute_reply": "2022-03-22T09:35:16.304611Z",
     "shell.execute_reply.started": "2022-03-22T09:35:16.300000Z"
    },
    "tags": []
   },
   "outputs": [],
   "source": [
    "from nltk.corpus import stopwords\n",
    "\n",
    "\n",
    "def extract_education(resume_text):\n",
    "    STOPWORDS = set(stopwords.words('english'))\n",
    "    \n",
    "    nlp_text = nlp(resume_text)\n",
    "    nlp_text = [sent.text.strip() for sent in nlp_text.sents]\n",
    "\n",
    "    edu = {}\n",
    "    for index, text in enumerate(nlp_text):\n",
    "        for tex in text.split():\n",
    "            tex = re.sub(r'[?|$|.|!|,]', r'', tex)\n",
    "            if tex.upper() in EDUCATION and tex not in STOPWORDS:\n",
    "                edu[tex] = text + nlp_text[index]\n",
    "\n",
    "    education = []\n",
    "    for key in edu.keys():\n",
    "        year = re.search(re.compile(r'(((20|19)(\\d{2})))'), edu[key])\n",
    "        if year:\n",
    "            education.append((key, ''.join(year[0])))\n",
    "        else:\n",
    "            education.append(key)\n",
    "    return education"
   ]
  },
  {
   "cell_type": "code",
   "execution_count": 91,
   "metadata": {
    "execution": {
     "iopub.execute_input": "2022-03-22T09:35:29.445758Z",
     "iopub.status.busy": "2022-03-22T09:35:29.445607Z",
     "iopub.status.idle": "2022-03-22T09:35:29.551302Z",
     "shell.execute_reply": "2022-03-22T09:35:29.550805Z",
     "shell.execute_reply.started": "2022-03-22T09:35:29.445736Z"
    },
    "tags": []
   },
   "outputs": [],
   "source": [
    "l_ = extract_education(textract.process(file_list[-1]).decode())"
   ]
  },
  {
   "cell_type": "code",
   "execution_count": 92,
   "metadata": {
    "execution": {
     "iopub.execute_input": "2022-03-22T09:35:29.889837Z",
     "iopub.status.busy": "2022-03-22T09:35:29.889598Z",
     "iopub.status.idle": "2022-03-22T09:35:29.893910Z",
     "shell.execute_reply": "2022-03-22T09:35:29.893283Z",
     "shell.execute_reply.started": "2022-03-22T09:35:29.889818Z"
    },
    "tags": []
   },
   "outputs": [
    {
     "data": {
      "text/plain": [
       "[('MTech', '2009'), ('BTech', '2009')]"
      ]
     },
     "execution_count": 92,
     "metadata": {},
     "output_type": "execute_result"
    }
   ],
   "source": [
    "l_"
   ]
  },
  {
   "cell_type": "code",
   "execution_count": 93,
   "metadata": {
    "execution": {
     "iopub.execute_input": "2022-03-22T09:39:01.299791Z",
     "iopub.status.busy": "2022-03-22T09:39:01.299212Z",
     "iopub.status.idle": "2022-03-22T09:39:01.302985Z",
     "shell.execute_reply": "2022-03-22T09:39:01.302418Z",
     "shell.execute_reply.started": "2022-03-22T09:39:01.299773Z"
    }
   },
   "outputs": [
    {
     "data": {
      "text/plain": [
       "True"
      ]
     },
     "execution_count": 93,
     "metadata": {},
     "output_type": "execute_result"
    }
   ],
   "source": [
    "'en' in 'eng'"
   ]
  },
  {
   "cell_type": "code",
   "execution_count": 54,
   "metadata": {
    "execution": {
     "iopub.execute_input": "2022-03-22T10:20:25.099300Z",
     "iopub.status.busy": "2022-03-22T10:20:25.099126Z",
     "iopub.status.idle": "2022-03-22T10:20:25.102952Z",
     "shell.execute_reply": "2022-03-22T10:20:25.102486Z",
     "shell.execute_reply.started": "2022-03-22T10:20:25.099284Z"
    },
    "tags": []
   },
   "outputs": [
    {
     "data": {
      "text/plain": [
       "True"
      ]
     },
     "execution_count": 54,
     "metadata": {},
     "output_type": "execute_result"
    }
   ],
   "source": [
    "not any([0, ''])"
   ]
  },
  {
   "cell_type": "code",
   "execution_count": null,
   "metadata": {},
   "outputs": [],
   "source": []
  }
 ],
 "metadata": {
  "interpreter": {
   "hash": "81d08055a2b8858ec83ead00b366ca1806c9068364125977b74f5797f47d76cf"
  },
  "kernelspec": {
   "display_name": "Python 3 (ipykernel)",
   "language": "python",
   "name": "python3"
  },
  "language_info": {
   "codemirror_mode": {
    "name": "ipython",
    "version": 3
   },
   "file_extension": ".py",
   "mimetype": "text/x-python",
   "name": "python",
   "nbconvert_exporter": "python",
   "pygments_lexer": "ipython3",
   "version": "3.8.12"
  }
 },
 "nbformat": 4,
 "nbformat_minor": 4
}
