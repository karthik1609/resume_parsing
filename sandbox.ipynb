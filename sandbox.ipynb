{
 "cells": [
  {
   "cell_type": "code",
   "execution_count": 4,
   "id": "c75cc42d-3449-4887-9567-93031b5b4385",
   "metadata": {
    "execution": {
     "iopub.execute_input": "2022-04-04T05:40:54.324206Z",
     "iopub.status.busy": "2022-04-04T05:40:54.323936Z",
     "iopub.status.idle": "2022-04-04T05:40:54.329181Z",
     "shell.execute_reply": "2022-04-04T05:40:54.328451Z",
     "shell.execute_reply.started": "2022-04-04T05:40:54.324183Z"
    },
    "tags": []
   },
   "outputs": [],
   "source": [
    "import sys\n",
    "import pickle\n",
    "import spacy\n",
    "from spacy.tokens import DocBin\n",
    "from spacy.util import filter_spans\n",
    "import random\n",
    "from tqdm import tqdm\n",
    "from src.TagPopulator import NerTrainSet"
   ]
  },
  {
   "cell_type": "markdown",
   "id": "827ee36b-45eb-476b-b517-332f22d5a840",
   "metadata": {
    "execution": {
     "iopub.execute_input": "2022-04-03T05:52:24.640559Z",
     "iopub.status.busy": "2022-04-03T05:52:24.640338Z",
     "iopub.status.idle": "2022-04-03T06:49:13.071482Z",
     "shell.execute_reply": "2022-04-03T06:49:13.071094Z",
     "shell.execute_reply.started": "2022-04-03T05:52:24.640528Z"
    },
    "tags": []
   },
   "source": [
    "## ner training set creation\n",
    "\n",
    "with open('data/ser_train.pkl', \"rb\") as fp:\n",
    "    ser_train = pickle.load(fp)\n",
    "\n",
    "\n",
    "nlp = spacy.load('en_core_web_trf')\n",
    "training_data = [(line[0], line[1]['entities']) for line in ser_train]\n",
    "db, dev = DocBin(), DocBin()\n",
    "for idx, (text, annotations) in zip(tqdm(range(len(training_data))), training_data):\n",
    "    doc = nlp(text)\n",
    "    ents = []\n",
    "    for start, end, label in annotations:\n",
    "        span = doc.char_span(start, end, label=label)\n",
    "        if span:\n",
    "            ents.append(span)\n",
    "    #print([ent for ent in ents if ent not in filter_spans(ents)])\n",
    "    ents = filter_spans(ents) \n",
    "    doc.ents = ents\n",
    "    if random.randint(1, 100) <= 50:\n",
    "        db.add(doc)\n",
    "    else:\n",
    "        dev.add(doc)\n",
    "db.to_disk('train_trf.spacy')\n",
    "dev.to_disk('dev_trf.spacy')"
   ]
  },
  {
   "cell_type": "code",
   "execution_count": 5,
   "id": "8da8a529-1615-44ef-9c47-79139165d74e",
   "metadata": {
    "execution": {
     "iopub.execute_input": "2022-04-04T05:41:06.130654Z",
     "iopub.status.busy": "2022-04-04T05:41:06.130202Z",
     "iopub.status.idle": "2022-04-04T05:41:10.367676Z",
     "shell.execute_reply": "2022-04-04T05:41:10.367143Z",
     "shell.execute_reply.started": "2022-04-04T05:41:06.130607Z"
    },
    "tags": []
   },
   "outputs": [],
   "source": [
    "nlp = spacy.load('trf_model/model-best')"
   ]
  },
  {
   "cell_type": "code",
   "execution_count": 29,
   "id": "ce61ff5e-002f-4f33-8fb3-26af1d0e3b8c",
   "metadata": {
    "execution": {
     "iopub.execute_input": "2022-04-04T05:43:46.820181Z",
     "iopub.status.busy": "2022-04-04T05:43:46.819889Z",
     "iopub.status.idle": "2022-04-04T05:43:47.024360Z",
     "shell.execute_reply": "2022-04-04T05:43:47.023626Z",
     "shell.execute_reply.started": "2022-04-04T05:43:46.820146Z"
    },
    "tags": []
   },
   "outputs": [],
   "source": [
    "doc = nlp('I have been working with python for the past five years.')"
   ]
  },
  {
   "cell_type": "code",
   "execution_count": 30,
   "id": "c65a3af9-9737-4123-b65b-71cdf726ec2a",
   "metadata": {
    "execution": {
     "iopub.execute_input": "2022-04-04T05:43:47.084905Z",
     "iopub.status.busy": "2022-04-04T05:43:47.084656Z",
     "iopub.status.idle": "2022-04-04T05:43:47.088633Z",
     "shell.execute_reply": "2022-04-04T05:43:47.087932Z",
     "shell.execute_reply.started": "2022-04-04T05:43:47.084882Z"
    },
    "tags": []
   },
   "outputs": [
    {
     "data": {
      "text/plain": [
       "(python,)"
      ]
     },
     "execution_count": 30,
     "metadata": {},
     "output_type": "execute_result"
    }
   ],
   "source": [
    "doc.ents"
   ]
  },
  {
   "cell_type": "code",
   "execution_count": 17,
   "id": "751db8eb-8b84-456d-a822-5b104078394a",
   "metadata": {
    "execution": {
     "iopub.execute_input": "2022-04-01T10:04:00.608405Z",
     "iopub.status.busy": "2022-04-01T10:04:00.608169Z",
     "iopub.status.idle": "2022-04-01T10:04:00.611758Z",
     "shell.execute_reply": "2022-04-01T10:04:00.611339Z",
     "shell.execute_reply.started": "2022-04-01T10:04:00.608390Z"
    },
    "tags": []
   },
   "outputs": [
    {
     "name": "stdout",
     "output_type": "stream",
     "text": [
      "Help on function blank in module spacy:\n",
      "\n",
      "blank(name: str, *, vocab: Union[spacy.vocab.Vocab, bool] = True, config: Union[Dict[str, Any], thinc.config.Config] = {}, meta: Dict[str, Any] = {}) -> spacy.language.Language\n",
      "    Create a blank nlp object for a given language code.\n",
      "    \n",
      "    name (str): The language code, e.g. \"en\".\n",
      "    vocab (Vocab): A Vocab object. If True, a vocab is created.\n",
      "    config (Dict[str, Any] / Config): Optional config overrides.\n",
      "    meta (Dict[str, Any]): Overrides for nlp.meta.\n",
      "    RETURNS (Language): The nlp object.\n",
      "\n"
     ]
    }
   ],
   "source": [
    "help(spacy.blank)"
   ]
  },
  {
   "cell_type": "code",
   "execution_count": 32,
   "id": "818bb807-9665-4e77-8195-320143604715",
   "metadata": {
    "execution": {
     "iopub.execute_input": "2022-04-04T06:01:12.104747Z",
     "iopub.status.busy": "2022-04-04T06:01:12.104484Z",
     "iopub.status.idle": "2022-04-04T06:01:12.162660Z",
     "shell.execute_reply": "2022-04-04T06:01:12.156192Z",
     "shell.execute_reply.started": "2022-04-04T06:01:12.104723Z"
    },
    "tags": []
   },
   "outputs": [
    {
     "name": "stdout",
     "output_type": "stream",
     "text": [
      "total 67224\n",
      "-rw-rw-r--. 1 kr kr     2755 Apr  3 23:23 base_config.cfg\n",
      "-rw-rw-r--. 1 kr kr     4289 Apr  3 23:28 config.cfg\n",
      "drwxrwxr-x. 4 kr kr      133 Mar 31 13:14 data\n",
      "-rw-rw-r--. 1 kr kr 12897133 Mar 31 17:33 dev.spacy\n",
      "-rw-rw-r--. 1 kr kr  8597145 Mar 31 16:39 dev.spacy_50\n",
      "-rw-rw-r--. 1 kr kr 12836987 Apr  3 12:19 dev_trf.spacy\n",
      "drwxrwxr-x. 3 kr kr    65536 Mar 31 13:01 Fw__Sample_resumes_\n",
      "-rw-rw-r--. 1 kr kr      272 Mar 31 12:34 nepop.py\n",
      "drwxrwxr-x. 3 kr kr      236 Mar 30 10:35 notebooks\n",
      "drwxrwxr-x. 4 kr kr       42 Mar 31 19:45 output\n",
      "drwxrwxr-x. 2 kr kr        6 Mar 31 16:40 output_50\n",
      "-rw-rw-r--. 1 kr kr     6250 Mar 29 17:49 README.md\n",
      "-rw-rw-r--. 1 kr kr     5967 Apr  4 11:15 sandbox.ipynb\n",
      "drwxrwxr-x. 3 kr kr       55 Mar 30 10:29 scripts\n",
      "-rw-rw-r--. 1 kr kr      320 Apr  4 11:17 skills.py\n",
      "drwxrwxr-x. 4 kr kr      116 Apr  1 17:27 src\n",
      "-rw-rw-r--. 1 kr kr 12823747 Mar 31 17:33 train.spacy\n",
      "-rw-rw-r--. 1 kr kr  8558441 Mar 31 16:39 train.spacy_50\n",
      "-rw-rw-r--. 1 kr kr 12967476 Apr  3 12:19 train_trf.spacy\n",
      "drwxrwxr-x. 4 kr kr       42 Apr  4 10:32 trf_model\n"
     ]
    }
   ],
   "source": [
    "import os\n",
    "a = os.system('ls -l')"
   ]
  },
  {
   "cell_type": "code",
   "execution_count": 33,
   "id": "0a2083fb-1251-43c9-9836-496729aed32e",
   "metadata": {
    "execution": {
     "iopub.execute_input": "2022-04-04T06:01:17.511406Z",
     "iopub.status.busy": "2022-04-04T06:01:17.510991Z",
     "iopub.status.idle": "2022-04-04T06:01:17.517176Z",
     "shell.execute_reply": "2022-04-04T06:01:17.516683Z",
     "shell.execute_reply.started": "2022-04-04T06:01:17.511367Z"
    }
   },
   "outputs": [
    {
     "data": {
      "text/plain": [
       "int"
      ]
     },
     "execution_count": 33,
     "metadata": {},
     "output_type": "execute_result"
    }
   ],
   "source": [
    "type(a)"
   ]
  },
  {
   "cell_type": "code",
   "execution_count": null,
   "id": "f098367d-3cec-4371-a411-d7aa4b040145",
   "metadata": {},
   "outputs": [],
   "source": []
  }
 ],
 "metadata": {
  "kernelspec": {
   "display_name": "Python 3 (ipykernel)",
   "language": "python",
   "name": "python3"
  },
  "language_info": {
   "codemirror_mode": {
    "name": "ipython",
    "version": 3
   },
   "file_extension": ".py",
   "mimetype": "text/x-python",
   "name": "python",
   "nbconvert_exporter": "python",
   "pygments_lexer": "ipython3",
   "version": "3.8.13"
  }
 },
 "nbformat": 4,
 "nbformat_minor": 5
}
