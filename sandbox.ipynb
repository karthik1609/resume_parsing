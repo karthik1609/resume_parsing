{
 "cells": [
  {
   "cell_type": "code",
   "execution_count": 26,
   "id": "c75cc42d-3449-4887-9567-93031b5b4385",
   "metadata": {
    "execution": {
     "iopub.execute_input": "2022-04-01T05:59:37.900119Z",
     "iopub.status.busy": "2022-04-01T05:59:37.899910Z",
     "iopub.status.idle": "2022-04-01T05:59:38.990242Z",
     "shell.execute_reply": "2022-04-01T05:59:38.989840Z",
     "shell.execute_reply.started": "2022-04-01T05:59:37.900090Z"
    },
    "tags": []
   },
   "outputs": [],
   "source": [
    "import sys\n",
    "import pickle\n",
    "import spacy\n",
    "from spacy.tokens import DocBin\n",
    "from spacy.util import filter_spans\n",
    "import random\n",
    "from tqdm import tqdm\n",
    "from src.TagPopulator import NerTrainSet"
   ]
  },
  {
   "cell_type": "raw",
   "id": "7d23d5b7-c91e-4bb9-8497-eb1829a001d7",
   "metadata": {
    "execution": {
     "iopub.execute_input": "2022-03-31T11:55:18.351375Z",
     "iopub.status.busy": "2022-03-31T11:55:18.351276Z",
     "iopub.status.idle": "2022-03-31T12:03:30.844551Z",
     "shell.execute_reply": "2022-03-31T12:03:30.844161Z",
     "shell.execute_reply.started": "2022-03-31T11:55:18.351361Z"
    },
    "tags": []
   },
   "source": [
    "## ner training set creation\n",
    "\n",
    "with open('data/ser_train.pkl', \"rb\") as fp:\n",
    "    ser_train = pickle.load(fp)\n",
    "\n",
    "%%time\n",
    "\n",
    "nlp = spacy.load('en_core_web_lg')\n",
    "training_data = [(line[0], line[1]['entities']) for line in ser_train]\n",
    "db, dev = DocBin(), DocBin()\n",
    "for idx, (text, annotations) in zip(tqdm(range(len(training_data))), training_data):\n",
    "    doc = nlp(text)\n",
    "    ents = []\n",
    "    for start, end, label in annotations:\n",
    "        span = doc.char_span(start, end, label=label)\n",
    "        if span:\n",
    "            ents.append(span)\n",
    "    #print([ent for ent in ents if ent not in filter_spans(ents)])\n",
    "    ents = filter_spans(ents) \n",
    "    doc.ents = ents\n",
    "    if random.randint(1, 100) <= 50:\n",
    "        db.add(doc)\n",
    "    else:\n",
    "        dev.add(doc)\n",
    "db.to_disk('train.spacy')\n",
    "dev.to_disk('dev.spacy')"
   ]
  },
  {
   "cell_type": "code",
   "execution_count": 14,
   "id": "8da8a529-1615-44ef-9c47-79139165d74e",
   "metadata": {
    "execution": {
     "iopub.execute_input": "2022-04-01T05:56:47.885678Z",
     "iopub.status.busy": "2022-04-01T05:56:47.885575Z",
     "iopub.status.idle": "2022-04-01T05:56:48.750798Z",
     "shell.execute_reply": "2022-04-01T05:56:48.750455Z",
     "shell.execute_reply.started": "2022-04-01T05:56:47.885664Z"
    },
    "tags": []
   },
   "outputs": [],
   "source": [
    "nlp = spacy.load('output/model-best')"
   ]
  },
  {
   "cell_type": "code",
   "execution_count": 53,
   "id": "ce61ff5e-002f-4f33-8fb3-26af1d0e3b8c",
   "metadata": {
    "execution": {
     "iopub.execute_input": "2022-04-01T06:06:26.767088Z",
     "iopub.status.busy": "2022-04-01T06:06:26.766901Z",
     "iopub.status.idle": "2022-04-01T06:06:26.779791Z",
     "shell.execute_reply": "2022-04-01T06:06:26.779406Z",
     "shell.execute_reply.started": "2022-04-01T06:06:26.767072Z"
    },
    "tags": []
   },
   "outputs": [],
   "source": [
    "doc = nlp('I have a strong background in product design. My name is java.')"
   ]
  },
  {
   "cell_type": "code",
   "execution_count": 54,
   "id": "c65a3af9-9737-4123-b65b-71cdf726ec2a",
   "metadata": {
    "execution": {
     "iopub.execute_input": "2022-04-01T06:06:27.225026Z",
     "iopub.status.busy": "2022-04-01T06:06:27.224774Z",
     "iopub.status.idle": "2022-04-01T06:06:27.228942Z",
     "shell.execute_reply": "2022-04-01T06:06:27.228305Z",
     "shell.execute_reply.started": "2022-04-01T06:06:27.225004Z"
    },
    "tags": []
   },
   "outputs": [
    {
     "data": {
      "text/plain": [
       "(product design, java)"
      ]
     },
     "execution_count": 54,
     "metadata": {},
     "output_type": "execute_result"
    }
   ],
   "source": [
    "doc.ents"
   ]
  },
  {
   "cell_type": "code",
   "execution_count": null,
   "id": "c514e08e-b14f-495a-a998-399e75b1ccac",
   "metadata": {},
   "outputs": [],
   "source": []
  }
 ],
 "metadata": {
  "kernelspec": {
   "display_name": "Python 3 (ipykernel)",
   "language": "python",
   "name": "python3"
  },
  "language_info": {
   "codemirror_mode": {
    "name": "ipython",
    "version": 3
   },
   "file_extension": ".py",
   "mimetype": "text/x-python",
   "name": "python",
   "nbconvert_exporter": "python",
   "pygments_lexer": "ipython3",
   "version": "3.8.13"
  }
 },
 "nbformat": 4,
 "nbformat_minor": 5
}
