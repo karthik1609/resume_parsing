{
 "cells": [
  {
   "cell_type": "code",
   "execution_count": 1,
   "id": "0a258873-bbfb-4547-85f9-88b1d710655c",
   "metadata": {
    "execution": {
     "iopub.execute_input": "2022-03-24T10:56:25.098562Z",
     "iopub.status.busy": "2022-03-24T10:56:25.098238Z",
     "iopub.status.idle": "2022-03-24T10:56:30.909088Z",
     "shell.execute_reply": "2022-03-24T10:56:30.908661Z",
     "shell.execute_reply.started": "2022-03-24T10:56:25.098513Z"
    },
    "tags": []
   },
   "outputs": [
    {
     "data": {
      "application/vnd.jupyter.widget-view+json": {
       "model_id": "c17231ce511f4cc3a00c9e19dd6de28b",
       "version_major": 2,
       "version_minor": 0
      },
      "text/plain": [
       "Downloading https://raw.githubusercontent.com/stanfordnlp/stanza-resources/main/resources_1.3.0.json:   0%|   …"
      ]
     },
     "metadata": {},
     "output_type": "display_data"
    },
    {
     "name": "stderr",
     "output_type": "stream",
     "text": [
      "2022-03-24 16:26:27 INFO: Downloading default packages for language: en (English)...\n",
      "2022-03-24 16:26:28 INFO: File exists: /home/kr/stanza_resources/en/default.zip.\n",
      "2022-03-24 16:26:30 INFO: Finished downloading models and saved to /home/kr/stanza_resources.\n"
     ]
    }
   ],
   "source": [
    "import ResumeParser"
   ]
  },
  {
   "cell_type": "code",
   "execution_count": 2,
   "id": "2f78b0ca-93bf-4406-9eb8-3fad982c9b10",
   "metadata": {
    "execution": {
     "iopub.execute_input": "2022-03-24T10:56:30.909903Z",
     "iopub.status.busy": "2022-03-24T10:56:30.909698Z",
     "iopub.status.idle": "2022-03-24T10:56:38.252526Z",
     "shell.execute_reply": "2022-03-24T10:56:38.252085Z",
     "shell.execute_reply.started": "2022-03-24T10:56:30.909889Z"
    },
    "tags": []
   },
   "outputs": [
    {
     "name": "stderr",
     "output_type": "stream",
     "text": [
      "2022-03-24 16:26:34 INFO: Loading these models for language: en (English):\n",
      "============================\n",
      "| Processor    | Package   |\n",
      "----------------------------\n",
      "| tokenize     | combined  |\n",
      "| pos          | combined  |\n",
      "| lemma        | combined  |\n",
      "| depparse     | combined  |\n",
      "| sentiment    | sstplus   |\n",
      "| constituency | wsj       |\n",
      "| ner          | ontonotes |\n",
      "============================\n",
      "\n",
      "2022-03-24 16:26:34 INFO: Use device: gpu\n",
      "2022-03-24 16:26:34 INFO: Loading: tokenize\n",
      "2022-03-24 16:26:37 INFO: Loading: pos\n",
      "2022-03-24 16:26:37 INFO: Loading: lemma\n",
      "2022-03-24 16:26:37 INFO: Loading: depparse\n",
      "2022-03-24 16:26:37 INFO: Loading: sentiment\n",
      "2022-03-24 16:26:37 INFO: Loading: constituency\n",
      "2022-03-24 16:26:37 INFO: Loading: ner\n",
      "2022-03-24 16:26:38 INFO: Done loading processors!\n"
     ]
    }
   ],
   "source": [
    "parser_instance = ResumeParser.parse('Fw__Sample_resumes_/Resume-Dileep2020.pdf')"
   ]
  },
  {
   "cell_type": "code",
   "execution_count": 3,
   "id": "68e94143-2986-443f-bbcf-2c6de8addd22",
   "metadata": {
    "execution": {
     "iopub.execute_input": "2022-03-24T10:56:38.253529Z",
     "iopub.status.busy": "2022-03-24T10:56:38.253380Z",
     "iopub.status.idle": "2022-03-24T10:56:38.260643Z",
     "shell.execute_reply": "2022-03-24T10:56:38.260228Z",
     "shell.execute_reply.started": "2022-03-24T10:56:38.253514Z"
    },
    "tags": []
   },
   "outputs": [
    {
     "data": {
      "text/plain": [
       "[('9949171669', (115, 125)),\n",
       " ('9985525299', (128, 138)),\n",
       " ('011\\n2005', (4181, 4189))]"
      ]
     },
     "execution_count": 3,
     "metadata": {},
     "output_type": "execute_result"
    }
   ],
   "source": [
    "parser_instance.extract_phone_number()"
   ]
  },
  {
   "cell_type": "code",
   "execution_count": 7,
   "id": "2eeab741-b3e9-4d4c-ba83-d3d448c848d3",
   "metadata": {
    "execution": {
     "iopub.execute_input": "2022-03-24T10:57:51.184854Z",
     "iopub.status.busy": "2022-03-24T10:57:51.184725Z",
     "iopub.status.idle": "2022-03-24T10:57:51.189927Z",
     "shell.execute_reply": "2022-03-24T10:57:51.189571Z",
     "shell.execute_reply.started": "2022-03-24T10:57:51.184815Z"
    },
    "tags": []
   },
   "outputs": [
    {
     "data": {
      "text/plain": [
       "['Scrum Alliance',\n",
       " 'Project Management\\nAgile-Scrum & Waterfall',\n",
       " 'Development Life Cycle Management',\n",
       " 'Agile',\n",
       " 'Business Analyst',\n",
       " 'Mechanical Engineering',\n",
       " 'Operations and Marketing',\n",
       " 'Scrum-centric',\n",
       " 'Project Management and Team Collaboration for Projects',\n",
       " 'Delivery & Release Planning',\n",
       " 'SDLC',\n",
       " 'Stakeholder Management',\n",
       " 'Directors / Managers',\n",
       " 'Conceptualization, Design\\nThinking',\n",
       " 'Engineering Design',\n",
       " 'Micro Mobility',\n",
       " 'Project',\n",
       " 'PMBOK) &',\n",
       " ' Product Management & Tech Ethics',\n",
       " 'the Business and Operations',\n",
       " 'INDIA  9949171669  9985525299']"
      ]
     },
     "execution_count": 7,
     "metadata": {},
     "output_type": "execute_result"
    }
   ],
   "source": [
    "parser_instance.extract_skills()"
   ]
  },
  {
   "cell_type": "code",
   "execution_count": 6,
   "id": "eea6dc2e-9fbb-47af-aee6-be97e2495465",
   "metadata": {
    "execution": {
     "iopub.execute_input": "2022-03-24T10:57:34.399004Z",
     "iopub.status.busy": "2022-03-24T10:57:34.398708Z",
     "iopub.status.idle": "2022-03-24T10:57:34.409508Z",
     "shell.execute_reply": "2022-03-24T10:57:34.409016Z",
     "shell.execute_reply.started": "2022-03-24T10:57:34.398976Z"
    },
    "tags": []
   },
   "outputs": [
    {
     "data": {
      "text/plain": [
       "['Scrum Alliance',\n",
       " 'Project Management\\nAgile-Scrum & Waterfall',\n",
       " 'Development Life Cycle Management',\n",
       " 'Agile',\n",
       " 'Business Analyst',\n",
       " 'Mechanical Engineering',\n",
       " 'Operations and Marketing',\n",
       " 'Scrum-centric',\n",
       " 'Project Management and Team Collaboration for Projects',\n",
       " 'Delivery & Release Planning',\n",
       " 'SDLC',\n",
       " 'Stakeholder Management',\n",
       " 'Directors / Managers',\n",
       " 'Conceptualization, Design\\nThinking',\n",
       " 'Engineering Design',\n",
       " 'Micro Mobility',\n",
       " 'Project',\n",
       " 'PMBOK) &',\n",
       " ' Product Management & Tech Ethics',\n",
       " 'the Business and Operations',\n",
       " 'INDIA  9949171669  9985525299']"
      ]
     },
     "execution_count": 6,
     "metadata": {},
     "output_type": "execute_result"
    }
   ],
   "source": [
    "parser_instance.output()"
   ]
  },
  {
   "cell_type": "code",
   "execution_count": null,
   "id": "d65246c7-b0de-4d13-8098-8617dd6671bd",
   "metadata": {},
   "outputs": [],
   "source": []
  }
 ],
 "metadata": {
  "kernelspec": {
   "display_name": "Python 3 (ipykernel)",
   "language": "python",
   "name": "python3"
  },
  "language_info": {
   "codemirror_mode": {
    "name": "ipython",
    "version": 3
   },
   "file_extension": ".py",
   "mimetype": "text/x-python",
   "name": "python",
   "nbconvert_exporter": "python",
   "pygments_lexer": "ipython3",
   "version": "3.8.12"
  }
 },
 "nbformat": 4,
 "nbformat_minor": 5
}
