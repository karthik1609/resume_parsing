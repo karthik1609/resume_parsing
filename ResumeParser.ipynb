{
 "cells": [
  {
   "cell_type": "code",
   "execution_count": 26,
   "id": "0a258873-bbfb-4547-85f9-88b1d710655c",
   "metadata": {
    "execution": {
     "iopub.execute_input": "2022-03-24T12:20:31.913340Z",
     "iopub.status.busy": "2022-03-24T12:20:31.913159Z",
     "iopub.status.idle": "2022-03-24T12:20:31.916363Z",
     "shell.execute_reply": "2022-03-24T12:20:31.916027Z",
     "shell.execute_reply.started": "2022-03-24T12:20:31.913303Z"
    },
    "tags": []
   },
   "outputs": [],
   "source": [
    "import ResumeParser\n",
    "import glob\n",
    "import os\n",
    "import json\n",
    "import sys\n",
    "os.environ[\"TOKENIZERS_PARALLELISM\"] = \"false\""
   ]
  },
  {
   "cell_type": "code",
   "execution_count": 20,
   "id": "2f78b0ca-93bf-4406-9eb8-3fad982c9b10",
   "metadata": {
    "execution": {
     "iopub.execute_input": "2022-03-24T11:39:14.071152Z",
     "iopub.status.busy": "2022-03-24T11:39:14.070716Z",
     "iopub.status.idle": "2022-03-24T11:39:14.074013Z",
     "shell.execute_reply": "2022-03-24T11:39:14.073440Z",
     "shell.execute_reply.started": "2022-03-24T11:39:14.071134Z"
    },
    "tags": []
   },
   "outputs": [],
   "source": [
    "file_list = [file for file in sys.argv[1:] if file.split('.')[-1] in ['docx', 'pdf']]"
   ]
  },
  {
   "cell_type": "code",
   "execution_count": 10,
   "id": "9787595f-9572-46fe-89e0-cfd3d4d81276",
   "metadata": {
    "execution": {
     "iopub.execute_input": "2022-03-24T11:32:06.422680Z",
     "iopub.status.busy": "2022-03-24T11:32:06.422489Z",
     "iopub.status.idle": "2022-03-24T11:32:06.425837Z",
     "shell.execute_reply": "2022-03-24T11:32:06.425357Z",
     "shell.execute_reply.started": "2022-03-24T11:32:06.422664Z"
    },
    "tags": []
   },
   "outputs": [],
   "source": [
    "with open(\n",
    "    'data/outputs/' + '_'.join(\n",
    "        file_list[0].split('/')[-1].split('.')[0].split(' ')) + '_' + file_list[0].split('/')[-1].split('.')[1] + '.json', \"w\"\n",
    ") as outfile:\n",
    "    json.dump(ResumeParser.parse(file).output('en'), outfile)"
   ]
  },
  {
   "cell_type": "code",
   "execution_count": 27,
   "id": "d0e75f5c-6d79-4516-8328-03b84a188c36",
   "metadata": {
    "execution": {
     "iopub.execute_input": "2022-03-24T12:20:40.439316Z",
     "iopub.status.busy": "2022-03-24T12:20:40.439119Z",
     "iopub.status.idle": "2022-03-24T12:20:40.442558Z",
     "shell.execute_reply": "2022-03-24T12:20:40.441970Z",
     "shell.execute_reply.started": "2022-03-24T12:20:40.439288Z"
    }
   },
   "outputs": [
    {
     "name": "stdout",
     "output_type": "stream",
     "text": [
      "Help on function dump in module json:\n",
      "\n",
      "dump(obj, fp, *, skipkeys=False, ensure_ascii=True, check_circular=True, allow_nan=True, cls=None, indent=None, separators=None, default=None, sort_keys=False, **kw)\n",
      "    Serialize ``obj`` as a JSON formatted stream to ``fp`` (a\n",
      "    ``.write()``-supporting file-like object).\n",
      "    \n",
      "    If ``skipkeys`` is true then ``dict`` keys that are not basic types\n",
      "    (``str``, ``int``, ``float``, ``bool``, ``None``) will be skipped\n",
      "    instead of raising a ``TypeError``.\n",
      "    \n",
      "    If ``ensure_ascii`` is false, then the strings written to ``fp`` can\n",
      "    contain non-ASCII characters if they appear in strings contained in\n",
      "    ``obj``. Otherwise, all such characters are escaped in JSON strings.\n",
      "    \n",
      "    If ``check_circular`` is false, then the circular reference check\n",
      "    for container types will be skipped and a circular reference will\n",
      "    result in an ``OverflowError`` (or worse).\n",
      "    \n",
      "    If ``allow_nan`` is false, then it will be a ``ValueError`` to\n",
      "    serialize out of range ``float`` values (``nan``, ``inf``, ``-inf``)\n",
      "    in strict compliance of the JSON specification, instead of using the\n",
      "    JavaScript equivalents (``NaN``, ``Infinity``, ``-Infinity``).\n",
      "    \n",
      "    If ``indent`` is a non-negative integer, then JSON array elements and\n",
      "    object members will be pretty-printed with that indent level. An indent\n",
      "    level of 0 will only insert newlines. ``None`` is the most compact\n",
      "    representation.\n",
      "    \n",
      "    If specified, ``separators`` should be an ``(item_separator, key_separator)``\n",
      "    tuple.  The default is ``(', ', ': ')`` if *indent* is ``None`` and\n",
      "    ``(',', ': ')`` otherwise.  To get the most compact JSON representation,\n",
      "    you should specify ``(',', ':')`` to eliminate whitespace.\n",
      "    \n",
      "    ``default(obj)`` is a function that should return a serializable version\n",
      "    of obj or raise TypeError. The default simply raises TypeError.\n",
      "    \n",
      "    If *sort_keys* is true (default: ``False``), then the output of\n",
      "    dictionaries will be sorted by key.\n",
      "    \n",
      "    To use a custom ``JSONEncoder`` subclass (e.g. one that overrides the\n",
      "    ``.default()`` method to serialize additional types), specify it with\n",
      "    the ``cls`` kwarg; otherwise ``JSONEncoder`` is used.\n",
      "\n"
     ]
    }
   ],
   "source": [
    "help(json.dump)"
   ]
  },
  {
   "cell_type": "code",
   "execution_count": null,
   "id": "480512fb-404b-4b35-b7bf-447b394f1c15",
   "metadata": {},
   "outputs": [],
   "source": []
  }
 ],
 "metadata": {
  "kernelspec": {
   "display_name": "Python 3 (ipykernel)",
   "language": "python",
   "name": "python3"
  },
  "language_info": {
   "codemirror_mode": {
    "name": "ipython",
    "version": 3
   },
   "file_extension": ".py",
   "mimetype": "text/x-python",
   "name": "python",
   "nbconvert_exporter": "python",
   "pygments_lexer": "ipython3",
   "version": "3.8.12"
  }
 },
 "nbformat": 4,
 "nbformat_minor": 5
}
