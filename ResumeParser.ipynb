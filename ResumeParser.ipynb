{
 "cells": [
  {
   "cell_type": "code",
   "execution_count": 19,
   "id": "0a258873-bbfb-4547-85f9-88b1d710655c",
   "metadata": {
    "execution": {
     "iopub.execute_input": "2022-03-24T11:39:13.564748Z",
     "iopub.status.busy": "2022-03-24T11:39:13.564574Z",
     "iopub.status.idle": "2022-03-24T11:39:13.568071Z",
     "shell.execute_reply": "2022-03-24T11:39:13.567446Z",
     "shell.execute_reply.started": "2022-03-24T11:39:13.564732Z"
    },
    "tags": []
   },
   "outputs": [],
   "source": [
    "import ResumeParser\n",
    "import glob\n",
    "import os\n",
    "import json\n",
    "import sys\n",
    "os.environ[\"TOKENIZERS_PARALLELISM\"] = \"false\""
   ]
  },
  {
   "cell_type": "code",
   "execution_count": 20,
   "id": "2f78b0ca-93bf-4406-9eb8-3fad982c9b10",
   "metadata": {
    "execution": {
     "iopub.execute_input": "2022-03-24T11:39:14.071152Z",
     "iopub.status.busy": "2022-03-24T11:39:14.070716Z",
     "iopub.status.idle": "2022-03-24T11:39:14.074013Z",
     "shell.execute_reply": "2022-03-24T11:39:14.073440Z",
     "shell.execute_reply.started": "2022-03-24T11:39:14.071134Z"
    },
    "tags": []
   },
   "outputs": [],
   "source": [
    "file_list = [file for file in sys.argv[1:] if file.split('.')[-1] in ['docx', 'pdf']]"
   ]
  },
  {
   "cell_type": "code",
   "execution_count": 10,
   "id": "9787595f-9572-46fe-89e0-cfd3d4d81276",
   "metadata": {
    "execution": {
     "iopub.execute_input": "2022-03-24T11:32:06.422680Z",
     "iopub.status.busy": "2022-03-24T11:32:06.422489Z",
     "iopub.status.idle": "2022-03-24T11:32:06.425837Z",
     "shell.execute_reply": "2022-03-24T11:32:06.425357Z",
     "shell.execute_reply.started": "2022-03-24T11:32:06.422664Z"
    },
    "tags": []
   },
   "outputs": [],
   "source": [
    "with open(\n",
    "    'data/outputs/' + '_'.join(\n",
    "        file_list[0].split('/')[-1].split('.')[0].split(' ')) + '_' + file_list[0].split('/')[-1].split('.')[1] + '.json', \"w\"\n",
    ") as outfile:\n",
    "    json.dump(ResumeParser.parse(file).output('en'), outfile)"
   ]
  }
 ],
 "metadata": {
  "kernelspec": {
   "display_name": "Python 3 (ipykernel)",
   "language": "python",
   "name": "python3"
  },
  "language_info": {
   "codemirror_mode": {
    "name": "ipython",
    "version": 3
   },
   "file_extension": ".py",
   "mimetype": "text/x-python",
   "name": "python",
   "nbconvert_exporter": "python",
   "pygments_lexer": "ipython3",
   "version": "3.8.12"
  }
 },
 "nbformat": 4,
 "nbformat_minor": 5
}
